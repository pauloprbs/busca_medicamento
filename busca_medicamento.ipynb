{
 "cells": [
  {
   "cell_type": "code",
   "execution_count": 1,
   "id": "78eb5b9c-9d04-4549-b3d2-e5c9e1455e8e",
   "metadata": {},
   "outputs": [],
   "source": [
    "import pandas as pd\n",
    "import matplotlib.pyplot as plt\n",
    "import plotly.graph_objects as go\n",
    "import networkx as nx\n",
    "import heapq\n",
    "\n",
    "import random"
   ]
  },
  {
   "cell_type": "code",
   "execution_count": 2,
   "id": "906cd869-07c3-47ca-9524-ff2cdcf81fb6",
   "metadata": {},
   "outputs": [],
   "source": [
    "def carregar_dados_medicamentos(path_tsv, sucesso_padrao=0.5):\n",
    "    \"\"\"\n",
    "    Lê o arquivo meddra_freq.tsv e retorna um dicionário de medicamentos com efeitos colaterais e sucesso estimado.\n",
    "    \n",
    "    Parâmetros:\n",
    "    - path_tsv: caminho para o arquivo .tsv\n",
    "    - sucesso_padrao: valor de sucesso a ser atribuído a cada medicamento\n",
    "    \n",
    "    Retorno:\n",
    "    - dicionário no formato:\n",
    "        {\n",
    "            'CID...': {\n",
    "                'efeitos': { 'Efeito1': freq, 'Efeito2': freq, ... },\n",
    "                'sucesso': sucesso_padrao\n",
    "            },\n",
    "            ...\n",
    "        }\n",
    "    \"\"\"\n",
    "    df = pd.read_csv(path_tsv, sep='\\t', header=None)\n",
    "\n",
    "    # Renomear colunas relevantes\n",
    "    df.columns = [\n",
    "        \"sider_id\", \"pubchem_cid\", \"umls_id\", \"unknown\", \n",
    "        \"freq_text\", \"freq_value\", \"unknown2\", \"term_type\", \n",
    "        \"umls_id_2\", \"side_effect\"\n",
    "    ]\n",
    "\n",
    "    # Filtra apenas termos principais (PT = Preferred Term)\n",
    "    df_pt = df[df[\"term_type\"] == \"PT\"]\n",
    "\n",
    "    # Agrupa por PubChem CID → efeitos colaterais com frequência\n",
    "    agrupado = df_pt.groupby(\"pubchem_cid\").apply(\n",
    "        lambda x: dict(zip(x[\"side_effect\"], x[\"freq_value\"]))\n",
    "    )\n",
    "\n",
    "    # Monta o dicionário final\n",
    "    medicamentos = {\n",
    "        cid: {\n",
    "            \"efeitos\": efeitos,\n",
    "            \"sucesso\": sucesso_padrao\n",
    "        }\n",
    "        for cid, efeitos in agrupado.items()\n",
    "    }\n",
    "\n",
    "    return medicamentos"
   ]
  },
  {
   "cell_type": "code",
   "execution_count": 3,
   "id": "8d3c3ce4-4e42-4d6b-8812-86603aae33d4",
   "metadata": {},
   "outputs": [
    {
     "name": "stdout",
     "output_type": "stream",
     "text": [
      "CID016130965\n",
      "{'efeitos': {'Dyspnoea': 0.0, 'Dermatitis': 0.0, 'Rash': 0.0, 'Headache': 0.001, 'Hypersensitivity': 0.0, 'Nausea': 0.001, 'Swelling': 0.1, 'Swelling face': 0.0, 'Feeling abnormal': 0.001, 'Malaise': 0.001, 'Discomfort': 0.001, 'Ill-defined disorder': 0.001, 'Erythema': 0.1}, 'sucesso': 0.5}\n"
     ]
    },
    {
     "name": "stderr",
     "output_type": "stream",
     "text": [
      "/tmp/ipykernel_13274/181427929.py:32: DeprecationWarning: DataFrameGroupBy.apply operated on the grouping columns. This behavior is deprecated, and in a future version of pandas the grouping columns will be excluded from the operation. Either pass `include_groups=False` to exclude the groupings or explicitly select the grouping columns after groupby to silence this warning.\n",
      "  agrupado = df_pt.groupby(\"pubchem_cid\").apply(\n"
     ]
    }
   ],
   "source": [
    "path= \"data/meddra_freq.tsv\"\n",
    "medicamentos = carregar_dados_medicamentos(path)\n",
    "\n",
    "# Visualizar um exemplo\n",
    "cid_exemplo = random.choice(list(medicamentos.keys()))\n",
    "print(cid_exemplo)\n",
    "print(medicamentos[cid_exemplo])"
   ]
  },
  {
   "cell_type": "code",
   "execution_count": 4,
   "id": "35e327b4-f95c-4131-9f02-ede9f0b90808",
   "metadata": {},
   "outputs": [
    {
     "name": "stdout",
     "output_type": "stream",
     "text": [
      "Sequência de tratamento encontrada: ['CID000000137', 'CID000000143']\n",
      "Custo total (efeitos colaterais acumulados): 0.00\n"
     ]
    },
    {
     "data": {
      "application/vnd.plotly.v1+json": {
       "config": {
        "plotlyServerURL": "https://plot.ly"
       },
       "data": [
        {
         "line": {
          "color": "red",
          "width": 2
         },
         "mode": "lines",
         "type": "scatter",
         "x": [
          -0.9999999999999991,
          1,
          null
         ],
         "y": [
          0.9848987466229839,
          -0.9848987466229838,
          null
         ]
        },
        {
         "marker": {
          "color": "lightblue",
          "size": 30
         },
         "mode": "markers+text",
         "text": [
          "CID000000137",
          "CID000000143"
         ],
         "textposition": "bottom center",
         "type": "scatter",
         "x": [
          -0.9999999999999991,
          1
         ],
         "y": [
          0.9848987466229839,
          -0.9848987466229838
         ]
        }
       ],
       "layout": {
        "showlegend": false,
        "template": {
         "data": {
          "bar": [
           {
            "error_x": {
             "color": "#2a3f5f"
            },
            "error_y": {
             "color": "#2a3f5f"
            },
            "marker": {
             "line": {
              "color": "#E5ECF6",
              "width": 0.5
             },
             "pattern": {
              "fillmode": "overlay",
              "size": 10,
              "solidity": 0.2
             }
            },
            "type": "bar"
           }
          ],
          "barpolar": [
           {
            "marker": {
             "line": {
              "color": "#E5ECF6",
              "width": 0.5
             },
             "pattern": {
              "fillmode": "overlay",
              "size": 10,
              "solidity": 0.2
             }
            },
            "type": "barpolar"
           }
          ],
          "carpet": [
           {
            "aaxis": {
             "endlinecolor": "#2a3f5f",
             "gridcolor": "white",
             "linecolor": "white",
             "minorgridcolor": "white",
             "startlinecolor": "#2a3f5f"
            },
            "baxis": {
             "endlinecolor": "#2a3f5f",
             "gridcolor": "white",
             "linecolor": "white",
             "minorgridcolor": "white",
             "startlinecolor": "#2a3f5f"
            },
            "type": "carpet"
           }
          ],
          "choropleth": [
           {
            "colorbar": {
             "outlinewidth": 0,
             "ticks": ""
            },
            "type": "choropleth"
           }
          ],
          "contour": [
           {
            "colorbar": {
             "outlinewidth": 0,
             "ticks": ""
            },
            "colorscale": [
             [
              0,
              "#0d0887"
             ],
             [
              0.1111111111111111,
              "#46039f"
             ],
             [
              0.2222222222222222,
              "#7201a8"
             ],
             [
              0.3333333333333333,
              "#9c179e"
             ],
             [
              0.4444444444444444,
              "#bd3786"
             ],
             [
              0.5555555555555556,
              "#d8576b"
             ],
             [
              0.6666666666666666,
              "#ed7953"
             ],
             [
              0.7777777777777778,
              "#fb9f3a"
             ],
             [
              0.8888888888888888,
              "#fdca26"
             ],
             [
              1,
              "#f0f921"
             ]
            ],
            "type": "contour"
           }
          ],
          "contourcarpet": [
           {
            "colorbar": {
             "outlinewidth": 0,
             "ticks": ""
            },
            "type": "contourcarpet"
           }
          ],
          "heatmap": [
           {
            "colorbar": {
             "outlinewidth": 0,
             "ticks": ""
            },
            "colorscale": [
             [
              0,
              "#0d0887"
             ],
             [
              0.1111111111111111,
              "#46039f"
             ],
             [
              0.2222222222222222,
              "#7201a8"
             ],
             [
              0.3333333333333333,
              "#9c179e"
             ],
             [
              0.4444444444444444,
              "#bd3786"
             ],
             [
              0.5555555555555556,
              "#d8576b"
             ],
             [
              0.6666666666666666,
              "#ed7953"
             ],
             [
              0.7777777777777778,
              "#fb9f3a"
             ],
             [
              0.8888888888888888,
              "#fdca26"
             ],
             [
              1,
              "#f0f921"
             ]
            ],
            "type": "heatmap"
           }
          ],
          "histogram": [
           {
            "marker": {
             "pattern": {
              "fillmode": "overlay",
              "size": 10,
              "solidity": 0.2
             }
            },
            "type": "histogram"
           }
          ],
          "histogram2d": [
           {
            "colorbar": {
             "outlinewidth": 0,
             "ticks": ""
            },
            "colorscale": [
             [
              0,
              "#0d0887"
             ],
             [
              0.1111111111111111,
              "#46039f"
             ],
             [
              0.2222222222222222,
              "#7201a8"
             ],
             [
              0.3333333333333333,
              "#9c179e"
             ],
             [
              0.4444444444444444,
              "#bd3786"
             ],
             [
              0.5555555555555556,
              "#d8576b"
             ],
             [
              0.6666666666666666,
              "#ed7953"
             ],
             [
              0.7777777777777778,
              "#fb9f3a"
             ],
             [
              0.8888888888888888,
              "#fdca26"
             ],
             [
              1,
              "#f0f921"
             ]
            ],
            "type": "histogram2d"
           }
          ],
          "histogram2dcontour": [
           {
            "colorbar": {
             "outlinewidth": 0,
             "ticks": ""
            },
            "colorscale": [
             [
              0,
              "#0d0887"
             ],
             [
              0.1111111111111111,
              "#46039f"
             ],
             [
              0.2222222222222222,
              "#7201a8"
             ],
             [
              0.3333333333333333,
              "#9c179e"
             ],
             [
              0.4444444444444444,
              "#bd3786"
             ],
             [
              0.5555555555555556,
              "#d8576b"
             ],
             [
              0.6666666666666666,
              "#ed7953"
             ],
             [
              0.7777777777777778,
              "#fb9f3a"
             ],
             [
              0.8888888888888888,
              "#fdca26"
             ],
             [
              1,
              "#f0f921"
             ]
            ],
            "type": "histogram2dcontour"
           }
          ],
          "mesh3d": [
           {
            "colorbar": {
             "outlinewidth": 0,
             "ticks": ""
            },
            "type": "mesh3d"
           }
          ],
          "parcoords": [
           {
            "line": {
             "colorbar": {
              "outlinewidth": 0,
              "ticks": ""
             }
            },
            "type": "parcoords"
           }
          ],
          "pie": [
           {
            "automargin": true,
            "type": "pie"
           }
          ],
          "scatter": [
           {
            "fillpattern": {
             "fillmode": "overlay",
             "size": 10,
             "solidity": 0.2
            },
            "type": "scatter"
           }
          ],
          "scatter3d": [
           {
            "line": {
             "colorbar": {
              "outlinewidth": 0,
              "ticks": ""
             }
            },
            "marker": {
             "colorbar": {
              "outlinewidth": 0,
              "ticks": ""
             }
            },
            "type": "scatter3d"
           }
          ],
          "scattercarpet": [
           {
            "marker": {
             "colorbar": {
              "outlinewidth": 0,
              "ticks": ""
             }
            },
            "type": "scattercarpet"
           }
          ],
          "scattergeo": [
           {
            "marker": {
             "colorbar": {
              "outlinewidth": 0,
              "ticks": ""
             }
            },
            "type": "scattergeo"
           }
          ],
          "scattergl": [
           {
            "marker": {
             "colorbar": {
              "outlinewidth": 0,
              "ticks": ""
             }
            },
            "type": "scattergl"
           }
          ],
          "scattermap": [
           {
            "marker": {
             "colorbar": {
              "outlinewidth": 0,
              "ticks": ""
             }
            },
            "type": "scattermap"
           }
          ],
          "scattermapbox": [
           {
            "marker": {
             "colorbar": {
              "outlinewidth": 0,
              "ticks": ""
             }
            },
            "type": "scattermapbox"
           }
          ],
          "scatterpolar": [
           {
            "marker": {
             "colorbar": {
              "outlinewidth": 0,
              "ticks": ""
             }
            },
            "type": "scatterpolar"
           }
          ],
          "scatterpolargl": [
           {
            "marker": {
             "colorbar": {
              "outlinewidth": 0,
              "ticks": ""
             }
            },
            "type": "scatterpolargl"
           }
          ],
          "scatterternary": [
           {
            "marker": {
             "colorbar": {
              "outlinewidth": 0,
              "ticks": ""
             }
            },
            "type": "scatterternary"
           }
          ],
          "surface": [
           {
            "colorbar": {
             "outlinewidth": 0,
             "ticks": ""
            },
            "colorscale": [
             [
              0,
              "#0d0887"
             ],
             [
              0.1111111111111111,
              "#46039f"
             ],
             [
              0.2222222222222222,
              "#7201a8"
             ],
             [
              0.3333333333333333,
              "#9c179e"
             ],
             [
              0.4444444444444444,
              "#bd3786"
             ],
             [
              0.5555555555555556,
              "#d8576b"
             ],
             [
              0.6666666666666666,
              "#ed7953"
             ],
             [
              0.7777777777777778,
              "#fb9f3a"
             ],
             [
              0.8888888888888888,
              "#fdca26"
             ],
             [
              1,
              "#f0f921"
             ]
            ],
            "type": "surface"
           }
          ],
          "table": [
           {
            "cells": {
             "fill": {
              "color": "#EBF0F8"
             },
             "line": {
              "color": "white"
             }
            },
            "header": {
             "fill": {
              "color": "#C8D4E3"
             },
             "line": {
              "color": "white"
             }
            },
            "type": "table"
           }
          ]
         },
         "layout": {
          "annotationdefaults": {
           "arrowcolor": "#2a3f5f",
           "arrowhead": 0,
           "arrowwidth": 1
          },
          "autotypenumbers": "strict",
          "coloraxis": {
           "colorbar": {
            "outlinewidth": 0,
            "ticks": ""
           }
          },
          "colorscale": {
           "diverging": [
            [
             0,
             "#8e0152"
            ],
            [
             0.1,
             "#c51b7d"
            ],
            [
             0.2,
             "#de77ae"
            ],
            [
             0.3,
             "#f1b6da"
            ],
            [
             0.4,
             "#fde0ef"
            ],
            [
             0.5,
             "#f7f7f7"
            ],
            [
             0.6,
             "#e6f5d0"
            ],
            [
             0.7,
             "#b8e186"
            ],
            [
             0.8,
             "#7fbc41"
            ],
            [
             0.9,
             "#4d9221"
            ],
            [
             1,
             "#276419"
            ]
           ],
           "sequential": [
            [
             0,
             "#0d0887"
            ],
            [
             0.1111111111111111,
             "#46039f"
            ],
            [
             0.2222222222222222,
             "#7201a8"
            ],
            [
             0.3333333333333333,
             "#9c179e"
            ],
            [
             0.4444444444444444,
             "#bd3786"
            ],
            [
             0.5555555555555556,
             "#d8576b"
            ],
            [
             0.6666666666666666,
             "#ed7953"
            ],
            [
             0.7777777777777778,
             "#fb9f3a"
            ],
            [
             0.8888888888888888,
             "#fdca26"
            ],
            [
             1,
             "#f0f921"
            ]
           ],
           "sequentialminus": [
            [
             0,
             "#0d0887"
            ],
            [
             0.1111111111111111,
             "#46039f"
            ],
            [
             0.2222222222222222,
             "#7201a8"
            ],
            [
             0.3333333333333333,
             "#9c179e"
            ],
            [
             0.4444444444444444,
             "#bd3786"
            ],
            [
             0.5555555555555556,
             "#d8576b"
            ],
            [
             0.6666666666666666,
             "#ed7953"
            ],
            [
             0.7777777777777778,
             "#fb9f3a"
            ],
            [
             0.8888888888888888,
             "#fdca26"
            ],
            [
             1,
             "#f0f921"
            ]
           ]
          },
          "colorway": [
           "#636efa",
           "#EF553B",
           "#00cc96",
           "#ab63fa",
           "#FFA15A",
           "#19d3f3",
           "#FF6692",
           "#B6E880",
           "#FF97FF",
           "#FECB52"
          ],
          "font": {
           "color": "#2a3f5f"
          },
          "geo": {
           "bgcolor": "white",
           "lakecolor": "white",
           "landcolor": "#E5ECF6",
           "showlakes": true,
           "showland": true,
           "subunitcolor": "white"
          },
          "hoverlabel": {
           "align": "left"
          },
          "hovermode": "closest",
          "mapbox": {
           "style": "light"
          },
          "paper_bgcolor": "white",
          "plot_bgcolor": "#E5ECF6",
          "polar": {
           "angularaxis": {
            "gridcolor": "white",
            "linecolor": "white",
            "ticks": ""
           },
           "bgcolor": "#E5ECF6",
           "radialaxis": {
            "gridcolor": "white",
            "linecolor": "white",
            "ticks": ""
           }
          },
          "scene": {
           "xaxis": {
            "backgroundcolor": "#E5ECF6",
            "gridcolor": "white",
            "gridwidth": 2,
            "linecolor": "white",
            "showbackground": true,
            "ticks": "",
            "zerolinecolor": "white"
           },
           "yaxis": {
            "backgroundcolor": "#E5ECF6",
            "gridcolor": "white",
            "gridwidth": 2,
            "linecolor": "white",
            "showbackground": true,
            "ticks": "",
            "zerolinecolor": "white"
           },
           "zaxis": {
            "backgroundcolor": "#E5ECF6",
            "gridcolor": "white",
            "gridwidth": 2,
            "linecolor": "white",
            "showbackground": true,
            "ticks": "",
            "zerolinecolor": "white"
           }
          },
          "shapedefaults": {
           "line": {
            "color": "#2a3f5f"
           }
          },
          "ternary": {
           "aaxis": {
            "gridcolor": "white",
            "linecolor": "white",
            "ticks": ""
           },
           "baxis": {
            "gridcolor": "white",
            "linecolor": "white",
            "ticks": ""
           },
           "bgcolor": "#E5ECF6",
           "caxis": {
            "gridcolor": "white",
            "linecolor": "white",
            "ticks": ""
           }
          },
          "title": {
           "x": 0.05
          },
          "xaxis": {
           "automargin": true,
           "gridcolor": "white",
           "linecolor": "white",
           "ticks": "",
           "title": {
            "standoff": 15
           },
           "zerolinecolor": "white",
           "zerolinewidth": 2
          },
          "yaxis": {
           "automargin": true,
           "gridcolor": "white",
           "linecolor": "white",
           "ticks": "",
           "title": {
            "standoff": 15
           },
           "zerolinecolor": "white",
           "zerolinewidth": 2
          }
         }
        },
        "title": {
         "text": "Caminho ótimo de tratamento com A* (Psiquiatria)"
        }
       }
      },
      "image/png": "[encoded data removed]"
     },
     "metadata": {},
     "output_type": "display_data"
    }
   ],
   "source": [
    "# Importância dos efeitos para o paciente\n",
    "perfil_paciente = {'Abdominal pain': 0.02, 'Headache': 0.0379404}\n",
    "\n",
    "# Função para calcular impacto (custo g)\n",
    "def calcular_impacto(medicamento):\n",
    "    efeitos = medicamentos[medicamento][\"efeitos\"]\n",
    "    score = sum(\n",
    "        efeitos.get(efeito, 0.0) * peso  # retorna 0.0 se o efeito não estiver no dicionário\n",
    "        for efeito, peso in perfil_paciente.items()\n",
    "    )\n",
    "    return score\n",
    "\n",
    "# Heurística (quanto falta para 100% de sucesso)\n",
    "def heuristica(sucesso_acumulado):\n",
    "    return (1 - sucesso_acumulado)\n",
    "\n",
    "# A* Search\n",
    "def a_star_tratamento():\n",
    "    inicio = (\"\", 0.0, [], 0.0)  # (último medicamento, sucesso acumulado, caminho, custo total)\n",
    "    fronteira = []\n",
    "    heapq.heappush(fronteira, (heuristica(0.0), inicio))\n",
    "\n",
    "    visitados = set()\n",
    "\n",
    "    while fronteira:\n",
    "        prioridade, (ultimo_med, sucesso_acum, caminho, custo_total) = heapq.heappop(fronteira)\n",
    "\n",
    "        if sucesso_acum >= 0.9:\n",
    "            print(f\"Sequência de tratamento encontrada: {caminho}\")\n",
    "            print(f\"Custo total (efeitos colaterais acumulados): {custo_total:.2f}\")\n",
    "            return caminho\n",
    "\n",
    "        for med in medicamentos:\n",
    "            if med not in caminho:  # evita repetir o mesmo medicamento\n",
    "                novo_sucesso = min(sucesso_acum + medicamentos[med][\"sucesso\"], 1.0)\n",
    "                impacto = calcular_impacto(med)\n",
    "                novo_caminho = caminho + [med]\n",
    "                novo_custo_total = custo_total + impacto\n",
    "\n",
    "                prioridade = novo_custo_total + heuristica(novo_sucesso)\n",
    "                estado = (med, novo_sucesso, novo_caminho, novo_custo_total)\n",
    "\n",
    "                if tuple(novo_caminho) not in visitados:\n",
    "                    heapq.heappush(fronteira, (prioridade, estado))\n",
    "                    visitados.add(tuple(novo_caminho))\n",
    "\n",
    "    return []\n",
    "\n",
    "# Executa o A* e obtém o caminho ótimo\n",
    "caminho_otimo = a_star_tratamento()\n",
    "\n",
    "# Cria grafo com NetworkX\n",
    "G = nx.DiGraph()\n",
    "for i in range(len(caminho_otimo) - 1):\n",
    "    G.add_edge(caminho_otimo[i], caminho_otimo[i+1])\n",
    "\n",
    "# Posições dos nós\n",
    "pos = nx.spring_layout(G, seed=42)\n",
    "\n",
    "# Prepara coordenadas das arestas\n",
    "edge_x = []\n",
    "edge_y = []\n",
    "for edge in G.edges():\n",
    "    x0, y0 = pos[edge[0]]\n",
    "    x1, y1 = pos[edge[1]]\n",
    "    edge_x.extend([x0, x1, None])\n",
    "    edge_y.extend([y0, y1, None])\n",
    "\n",
    "edge_trace = go.Scatter(x=edge_x, y=edge_y, line=dict(width=2, color='red'), mode='lines')\n",
    "\n",
    "# Prepara coordenadas dos nós\n",
    "node_x = []\n",
    "node_y = []\n",
    "node_text = []\n",
    "for node in G.nodes():\n",
    "    x, y = pos[node]\n",
    "    node_x.append(x)\n",
    "    node_y.append(y)\n",
    "    node_text.append(node)\n",
    "\n",
    "node_trace = go.Scatter(\n",
    "    x=node_x, y=node_y,\n",
    "    mode='markers+text',\n",
    "    text=node_text,\n",
    "    marker=dict(size=30, color='lightblue'),\n",
    "    textposition=\"bottom center\"\n",
    ")\n",
    "\n",
    "# Mostra grafo\n",
    "fig = go.Figure(data=[edge_trace, node_trace])\n",
    "fig.update_layout(title='Caminho ótimo de tratamento com A* (Psiquiatria)', showlegend=False)\n",
    "fig.show()"
   ]
  }
 ],
 "metadata": {
  "kernelspec": {
   "display_name": "Python 3 (ipykernel)",
   "language": "python",
   "name": "python3"
  },
  "language_info": {
   "codemirror_mode": {
    "name": "ipython",
    "version": 3
   },
   "file_extension": ".py",
   "mimetype": "text/x-python",
   "name": "python",
   "nbconvert_exporter": "python",
   "pygments_lexer": "ipython3",
   "version": "3.12.3"
  }
 },
 "nbformat": 4,
 "nbformat_minor": 5
}
